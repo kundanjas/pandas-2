{
 "cells": [
  {
   "cell_type": "code",
   "execution_count": null,
   "id": "bff7d6c3-384d-4283-80df-5dbc8b009ca3",
   "metadata": {},
   "outputs": [],
   "source": [
    "import pandas as pd"
   ]
  },
  {
   "cell_type": "code",
   "execution_count": null,
   "id": "7cbae0be-8ec9-4da5-ae84-1ed65b588d69",
   "metadata": {},
   "outputs": [],
   "source": [
    "Course_name = ['Data Science' , 'Machine Learing','Big Data', 'Data Engineer']\n",
    "duration = [2,3,6,4]"
   ]
  },
  {
   "cell_type": "code",
   "execution_count": null,
   "id": "e4c4dd75-389f-41a2-8802-95a1683b20bc",
   "metadata": {},
   "outputs": [],
   "source": [
    "df= pd.DataFrame(data={'course_name':Course_name, 'duration':duration})\n",
    "print(df)"
   ]
  },
  {
   "cell_type": "code",
   "execution_count": null,
   "id": "4517b8a4-7e3f-42f0-b764-9d27df766a06",
   "metadata": {},
   "outputs": [],
   "source": [
    "Q1. Write a code to print the data present in the second row of the dataframe, df."
   ]
  },
  {
   "cell_type": "code",
   "execution_count": null,
   "id": "0bc13463-e8a3-495a-a082-b91314d07f38",
   "metadata": {},
   "outputs": [],
   "source": [
    "import pandas as pd"
   ]
  },
  {
   "cell_type": "code",
   "execution_count": null,
   "id": "6dfc67d3-06b4-4b7d-9a6f-bf7c8aa13070",
   "metadata": {},
   "outputs": [],
   "source": [
    "Course_name = ['Data Science' , 'Machine Learing','Big Data', 'Data Engineer']\n",
    "duration = [2,3,6,4]"
   ]
  },
  {
   "cell_type": "code",
   "execution_count": null,
   "id": "ad813f1b-ea63-40d8-bffe-b08497ceb55f",
   "metadata": {},
   "outputs": [],
   "source": [
    "df= pd.DataFrame(data={'course_name':Course_name, 'duration':duration})\n",
    "print(df.iloc[1])"
   ]
  },
  {
   "cell_type": "code",
   "execution_count": null,
   "id": "12e7205b-8f12-442d-9751-0f9493df2413",
   "metadata": {},
   "outputs": [],
   "source": [
    "Q2. What is the difference between the functions loc and iloc in pandas.DataFrame?"
   ]
  },
  {
   "cell_type": "markdown",
   "id": "77e41a3f-1971-409c-8e28-490e6c69bb05",
   "metadata": {
    "tags": []
   },
   "source": [
    "# the 'loc'and 'iloc' function in pandas are used for accessing data in a DataFrame but the differ in the type of indexing they use"
   ]
  },
  {
   "cell_type": "code",
   "execution_count": null,
   "id": "f9a35a50-0f42-4d7a-818c-4b285eb3e0cf",
   "metadata": {},
   "outputs": [],
   "source": [
    "import pandas as pd"
   ]
  },
  {
   "cell_type": "code",
   "execution_count": null,
   "id": "50274cd5-a521-4f19-96db-997847ef84fd",
   "metadata": {},
   "outputs": [],
   "source": [
    "df = pd. DataFrame({'A':[1,2,3],'B':[4,5,6]})\n",
    "print(df.loc[1,'A'])"
   ]
  },
  {
   "cell_type": "code",
   "execution_count": null,
   "id": "f5ab2b6d-c262-4189-8959-19937732001c",
   "metadata": {},
   "outputs": [],
   "source": [
    "df = pd. DataFrame({'A':[1,2,3],'B':[4,5,6]})\n",
    "print(df.loc[1,'B'])"
   ]
  },
  {
   "cell_type": "code",
   "execution_count": null,
   "id": "324ec6f0-1c4d-4e59-8651-82f8c4dca653",
   "metadata": {},
   "outputs": [],
   "source": [
    "df = pd. DataFrame({'A':[1,2,3],'B':[4,5,6]})\n",
    "print(df.iloc[1,0])"
   ]
  },
  {
   "cell_type": "code",
   "execution_count": null,
   "id": "9b24605b-cb31-409b-bc81-4e11403346f7",
   "metadata": {},
   "outputs": [],
   "source": [
    "Q3. Reindex the given dataframe using a variable, reindex = [3,0,1,2] and store it in the variable, new_df\n",
    "then find the output for both new_df.loc[2] and new_df.iloc[2]."
   ]
  },
  {
   "cell_type": "code",
   "execution_count": null,
   "id": "fe0e0227-6245-40ce-8955-d568b839154b",
   "metadata": {},
   "outputs": [],
   "source": [
    "import pandas as pd "
   ]
  },
  {
   "cell_type": "code",
   "execution_count": null,
   "id": "e52ae8f2-9db9-4d6d-9b4a-254adea8203c",
   "metadata": {},
   "outputs": [],
   "source": [
    "data = {'A':[10,20,30,40],'B':[50,60,70,80]}\n",
    "df= pd.DataFrame(data)"
   ]
  },
  {
   "cell_type": "code",
   "execution_count": null,
   "id": "7fdced51-5a91-418c-95c5-1a427d86dd97",
   "metadata": {},
   "outputs": [],
   "source": [
    "print(df)"
   ]
  },
  {
   "cell_type": "code",
   "execution_count": null,
   "id": "d07c4c66-8ba8-40cc-805b-7aa38d9252cb",
   "metadata": {},
   "outputs": [],
   "source": [
    "reindex = [3,0,1,2]\n"
   ]
  },
  {
   "cell_type": "code",
   "execution_count": null,
   "id": "c044d3de-eb2e-449a-8d63-d5f202838076",
   "metadata": {},
   "outputs": [],
   "source": [
    "new_df = df.reindex(reindex)\n",
    "print(new_df)"
   ]
  },
  {
   "cell_type": "code",
   "execution_count": null,
   "id": "9e644b0b-b0ac-4f68-9eef-9c3c1db3afa2",
   "metadata": {},
   "outputs": [],
   "source": [
    "new_df.loc[2]"
   ]
  },
  {
   "cell_type": "code",
   "execution_count": null,
   "id": "e298e13d-465b-40a1-8400-db1d6f5d1969",
   "metadata": {},
   "outputs": [],
   "source": [
    "new_df.iloc[2]"
   ]
  },
  {
   "cell_type": "code",
   "execution_count": null,
   "id": "42a655a1-5b09-421d-bd5a-17395a69b0c4",
   "metadata": {},
   "outputs": [],
   "source": [
    "new_df.loc[2]"
   ]
  },
  {
   "cell_type": "code",
   "execution_count": null,
   "id": "9ec87264-7a78-473b-aaf0-e2d0d1ba0496",
   "metadata": {},
   "outputs": [],
   "source": [
    "Did you observe any difference in both the outputs? If so then explain it.\n",
    "Consider the below code to answer further questions:\n",
    "import pandas as pd\n",
    "import numpy as np\n",
    "columns = ['column_1', 'column_2', 'column_3', 'column_4', 'column_5', 'column_6']\n",
    "indices = [1,2,3,4,5,6]\n",
    "#Creating a dataframe:\n",
    "df1 = pd.DataFrame(np.random.rand(6,6), columns = columns, index = indices)"
   ]
  },
  {
   "cell_type": "code",
   "execution_count": null,
   "id": "c5bdccea-1961-4464-8f33-db9308b6ea7a",
   "metadata": {},
   "outputs": [],
   "source": [
    "import pandas as pd"
   ]
  },
  {
   "cell_type": "code",
   "execution_count": null,
   "id": "dc34c19a-ec2f-491a-98c1-c437ba146a01",
   "metadata": {},
   "outputs": [],
   "source": [
    "import numpy as np"
   ]
  },
  {
   "cell_type": "code",
   "execution_count": null,
   "id": "e40f21b3-f64f-485e-85b5-51b581aeb8ce",
   "metadata": {},
   "outputs": [],
   "source": [
    "columns =['column_1' ,'column_2' , 'column_3','column_4','column_5', 'column_6']"
   ]
  },
  {
   "cell_type": "code",
   "execution_count": null,
   "id": "2e1c0939-de84-49aa-b936-b4b6f154d414",
   "metadata": {},
   "outputs": [],
   "source": [
    "indices = [1,2,3,4,5,6]"
   ]
  },
  {
   "cell_type": "code",
   "execution_count": null,
   "id": "d424ac1d-dfb0-4899-90ef-bc42365e400e",
   "metadata": {},
   "outputs": [],
   "source": [
    "df1=pd.DataFrame(np.random.rand(6,6),columns=columns, index=indices)\n",
    "                                "
   ]
  },
  {
   "cell_type": "code",
   "execution_count": null,
   "id": "b59c6a04-dbe8-4a5e-a90a-ff3bdccabd0d",
   "metadata": {},
   "outputs": [],
   "source": [
    "print(df1)"
   ]
  },
  {
   "cell_type": "code",
   "execution_count": null,
   "id": "5fd01f53-a419-4013-adab-621e526f8d15",
   "metadata": {},
   "outputs": [],
   "source": [
    "Q4. Write a code to find the following statistical measurements for the above dataframe df1:\n",
    "(i) mean of each and every column present in the dataframe.\n",
    "(ii) standard deviation of column, ‘column_2’"
   ]
  },
  {
   "cell_type": "code",
   "execution_count": null,
   "id": "accc88cd-d7c7-4784-bbb8-209923e8def5",
   "metadata": {},
   "outputs": [],
   "source": [
    "import pandas as pd"
   ]
  },
  {
   "cell_type": "code",
   "execution_count": null,
   "id": "93ae9a09-b5ea-4eb9-af95-5a1b195f5084",
   "metadata": {},
   "outputs": [],
   "source": [
    "import numpy as np"
   ]
  },
  {
   "cell_type": "code",
   "execution_count": null,
   "id": "f8153615-74a6-4469-bb9d-a4690a04e1c5",
   "metadata": {},
   "outputs": [],
   "source": [
    "columns =['column_1' ,'column_2' , 'column_3','column_4','column_5', 'column_6']"
   ]
  },
  {
   "cell_type": "code",
   "execution_count": null,
   "id": "7d8fee1d-1bd4-4a01-8bbc-290d345e84e2",
   "metadata": {},
   "outputs": [],
   "source": [
    "indices = [1,2,3,4,5,6]"
   ]
  },
  {
   "cell_type": "code",
   "execution_count": null,
   "id": "f544ad7c-08dd-4608-8122-2bcb32b0cc75",
   "metadata": {},
   "outputs": [],
   "source": [
    "df1 = pd.DataFrame(np.random.rand(6,6), columns=columns,index=indices)"
   ]
  },
  {
   "cell_type": "code",
   "execution_count": null,
   "id": "dec04b88-a0f7-4d08-8f1a-4c8e4f789813",
   "metadata": {},
   "outputs": [],
   "source": [
    "mean_of_columns = df1.mean()"
   ]
  },
  {
   "cell_type": "code",
   "execution_count": null,
   "id": "2761b5a3-7bef-4da4-9bbc-b59fd82f3f5f",
   "metadata": {},
   "outputs": [],
   "source": [
    "std_columns_2 = df1['column_1'].std()"
   ]
  },
  {
   "cell_type": "code",
   "execution_count": null,
   "id": "d13fa014-38f5-423f-afc8-1ab9a9c2d1d5",
   "metadata": {},
   "outputs": [],
   "source": [
    "print(\"Mean of each column:/n\",mean_of_columns)"
   ]
  },
  {
   "cell_type": "code",
   "execution_count": null,
   "id": "2f9dace7-3671-4e75-a802-06c90174b6d7",
   "metadata": {},
   "outputs": [],
   "source": [
    "print(\"/nStandard devitation of 'columns_1':\", std_columns_2)"
   ]
  },
  {
   "cell_type": "code",
   "execution_count": null,
   "id": "f02a0c0e-f3da-4677-9109-d301882e1fbb",
   "metadata": {},
   "outputs": [],
   "source": [
    "Q5. Replace the data present in the second row of column, ‘column_2’ by a string variable then find the\n",
    "mean of column, column_2.\n",
    "If you are getting errors in executing it then explain why.\n",
    "[Hint: To replace the data use df1.loc[] and equate this to string data of your choice.]"
   ]
  },
  {
   "cell_type": "code",
   "execution_count": null,
   "id": "b2290768-122d-4b5c-89a6-eca77bfdb327",
   "metadata": {},
   "outputs": [],
   "source": [
    "import pandas as pd\n"
   ]
  },
  {
   "cell_type": "code",
   "execution_count": null,
   "id": "1f5aab3f-e463-41ab-96fc-7c994c776195",
   "metadata": {},
   "outputs": [],
   "source": [
    "data={'column_1':[1,2,3,4],\n",
    "      'column_2':[10,20,30,40]}\n"
   ]
  },
  {
   "cell_type": "code",
   "execution_count": null,
   "id": "2c2571e0-3533-4836-90b5-f09f064dfb0d",
   "metadata": {},
   "outputs": [],
   "source": [
    "df1= pd.DataFrame(data)"
   ]
  },
  {
   "cell_type": "code",
   "execution_count": null,
   "id": "8e59cb34-f118-4ff1-9625-9683f3dba18c",
   "metadata": {},
   "outputs": [],
   "source": [
    "print(\"Original DataFrame:\")"
   ]
  },
  {
   "cell_type": "code",
   "execution_count": null,
   "id": "7b8da202-734e-4e3b-91ae-af156b8d377b",
   "metadata": {},
   "outputs": [],
   "source": [
    "print(df1)"
   ]
  },
  {
   "cell_type": "code",
   "execution_count": null,
   "id": "b4a58cf1-ea20-49b1-91ad-30c135f86980",
   "metadata": {},
   "outputs": [],
   "source": [
    "df1.loc[1,'column_2']='string_value'"
   ]
  },
  {
   "cell_type": "code",
   "execution_count": null,
   "id": "6eab61c0-4a7d-4d53-bbdb-2cc3972eecba",
   "metadata": {},
   "outputs": [],
   "source": [
    "print(\"/nModified DataFrame:\")"
   ]
  },
  {
   "cell_type": "code",
   "execution_count": null,
   "id": "e861b781-e901-491f-a7af-dc593ec11aee",
   "metadata": {},
   "outputs": [],
   "source": [
    "print(df1)"
   ]
  },
  {
   "cell_type": "code",
   "execution_count": null,
   "id": "16240581-3a68-417a-bc1e-93b1b38e60ca",
   "metadata": {},
   "outputs": [],
   "source": [
    "try:\n",
    "    mean_value = df1['column_2'].mean()\n",
    "    print(\"/nMean of column_2:\",mean_value)\n",
    "except TypeError as e:\n",
    "    print(\"/nError encountered while calculating the mean of column_2:\",e)"
   ]
  },
  {
   "cell_type": "code",
   "execution_count": null,
   "id": "cef02e1f-18f5-45b2-b123-0759868535af",
   "metadata": {},
   "outputs": [],
   "source": [
    "Q6. What do you understand about the windows function in pandas and list the types of windows\n",
    "functions?"
   ]
  },
  {
   "cell_type": "markdown",
   "id": "79ce4900-b4e1-4a22-b34e-9ebf1274d2f2",
   "metadata": {},
   "source": [
    "In pandas window functions are used to perform opertions on a set of data points within a specified windows which can be a fixed number of preceding or following rows.these function are particulary useful for calculating satical metrics such a moving average .There are three types of windows function in pandas\n",
    "1. Rollwing Windows\n",
    "2. Expanding Windows\n",
    "3. Exponentially Weighted Windows"
   ]
  },
  {
   "cell_type": "code",
   "execution_count": null,
   "id": "2d5a760a-9aac-4340-9ccd-129bfb5f3bbe",
   "metadata": {},
   "outputs": [],
   "source": [
    "import pandas as pd"
   ]
  },
  {
   "cell_type": "code",
   "execution_count": null,
   "id": "57ffbc17-89ce-46e0-b72a-666f293bc29e",
   "metadata": {},
   "outputs": [],
   "source": [
    "data={'value':[1,2,3,4,5,6,7,8,9,10]}\n",
    "df=pd.DataFrame(data)"
   ]
  },
  {
   "cell_type": "code",
   "execution_count": null,
   "id": "01236781-5897-4223-b43c-fe90afccea6b",
   "metadata": {},
   "outputs": [],
   "source": [
    "df['rolling_mean']=df['value'].rolling(window=3).mean()"
   ]
  },
  {
   "cell_type": "code",
   "execution_count": null,
   "id": "02af166f-ae13-4974-ad62-9df269609378",
   "metadata": {},
   "outputs": [],
   "source": [
    "#Expanding window\n",
    "df['expanding_sum']=df['value'].expanding().sum()"
   ]
  },
  {
   "cell_type": "code",
   "execution_count": null,
   "id": "bf2ba456-3daf-4f24-ac35-79e4b7ae1495",
   "metadata": {},
   "outputs": [],
   "source": [
    "#Exponentially Weighted Window\n",
    "df['ewm_mean']=df['value'].ewm(span=3).mean()"
   ]
  },
  {
   "cell_type": "code",
   "execution_count": null,
   "id": "87eca7ce-2554-441d-9f12-d630f8fe064f",
   "metadata": {},
   "outputs": [],
   "source": [
    "print(df)"
   ]
  },
  {
   "cell_type": "code",
   "execution_count": null,
   "id": "7819c10a-1640-4587-9c5a-8010c331b209",
   "metadata": {},
   "outputs": [],
   "source": [
    "Q7. Write a code to print only the current month and year at the time of answering this question.\n",
    "[Hint: Use pandas.datetime function]"
   ]
  },
  {
   "cell_type": "code",
   "execution_count": null,
   "id": "f42ebb79-63b8-48ed-943f-dc839ff9da9e",
   "metadata": {},
   "outputs": [],
   "source": [
    "import pandas as pd"
   ]
  },
  {
   "cell_type": "code",
   "execution_count": null,
   "id": "573c52d8-af00-49e8-a985-f6d5c14fe26b",
   "metadata": {},
   "outputs": [],
   "source": [
    "current_datetime = pd.Timestamp.now()\n"
   ]
  },
  {
   "cell_type": "code",
   "execution_count": null,
   "id": "233e965b-5de3-4cea-b413-86bd22f74f4e",
   "metadata": {},
   "outputs": [],
   "source": [
    "current_month_year = current_datetime.strftime(\"23-05-2024\")"
   ]
  },
  {
   "cell_type": "code",
   "execution_count": null,
   "id": "03d5ac11-0905-48df-9e26-242ad671864f",
   "metadata": {},
   "outputs": [],
   "source": [
    "print(current_month_year)"
   ]
  },
  {
   "cell_type": "code",
   "execution_count": null,
   "id": "71d66dbc-3250-4e1f-a732-e79f4ea3fcb7",
   "metadata": {},
   "outputs": [],
   "source": [
    "Q8. Write a Python program that takes in two dates as input (in the format YYYY-MM-DD) and\n",
    "calculates the difference between them in days, hours, and minutes using Pandas time delta. The\n",
    "program should prompt the user to enter the dates and display the result. "
   ]
  },
  {
   "cell_type": "code",
   "execution_count": null,
   "id": "4088c226-7c9e-4fff-bbc6-3978e4fa60ab",
   "metadata": {},
   "outputs": [],
   "source": [
    "import pandas as pd "
   ]
  },
  {
   "cell_type": "code",
   "execution_count": null,
   "id": "3c3f459c-9a2c-42a6-a2c0-7bc673f9d265",
   "metadata": {},
   "outputs": [],
   "source": [
    "def calculate_date_difference(date1,date2):\n",
    "    datetime1= pd.Timestamp(date1)\n",
    "    datetime2= pd.Timestamp(date2)\n",
    "    time_difference = datetime2 - datetime1\n",
    "    days=time_difference.days\n",
    "    hours= time_difference.second//3600\n",
    "    minutes=(time_difference.seconds % 3600) // 60\n",
    "    return days, hours, minutes\n",
    "    "
   ]
  },
  {
   "cell_type": "code",
   "execution_count": null,
   "id": "d41f5683-8935-4da0-a35b-e186e3d35a85",
   "metadata": {},
   "outputs": [],
   "source": [
    "date1_input = input(\"Enter the first date(YYY-MM-DD):\")\n",
    "date2_input= input(\"Enter the second date(YYY-MM-DD):\")"
   ]
  },
  {
   "cell_type": "code",
   "execution_count": null,
   "id": "1dfba310-3d63-43c4-8fae-da9046dcfe6d",
   "metadata": {},
   "outputs": [],
   "source": [
    "Q9. Write a Python program that reads a CSV file containing categorical data and converts a specified\n",
    "column to a categorical data type. The program should prompt the user to enter the file path, column\n",
    "name, and category order, and then display the sorted data."
   ]
  },
  {
   "cell_type": "code",
   "execution_count": 1,
   "id": "a36a6d90-01d8-470d-94be-0282e946807a",
   "metadata": {},
   "outputs": [],
   "source": [
    "import pandas as pd"
   ]
  },
  {
   "cell_type": "code",
   "execution_count": 2,
   "id": "384ecdd9-e8f6-444e-8623-bb67329f8365",
   "metadata": {},
   "outputs": [
    {
     "ename": "SyntaxError",
     "evalue": "'return' outside function (3456015663.py, line 5)",
     "output_type": "error",
     "traceback": [
      "\u001b[0;36m  Cell \u001b[0;32mIn[2], line 5\u001b[0;36m\u001b[0m\n\u001b[0;31m    return\u001b[0m\n\u001b[0m    ^\u001b[0m\n\u001b[0;31mSyntaxError\u001b[0m\u001b[0;31m:\u001b[0m 'return' outside function\n"
     ]
    }
   ],
   "source": [
    "try:\n",
    "    df=pd.read_CSV(file_path)\n",
    "except FileNotError:\n",
    "    print(\"File not found.Please check the file path and try again.\")\n",
    "    return\n",
    "except pd.error.EmptyDataError:\n",
    "    print(\"Files is empty. please provide a valid CSV file.\")\n",
    "    return\n",
    "except pd.errors.ParserError:\n",
    "    print(\"Error parsing the file.Please ensure it is a valid CSV file.\")\n",
    "    return\n",
    "print(\"/nColumns in the CSV file:\")\n",
    "for col in df.columns:\n",
    "    print(col)\n",
    "column_name=input(\"/nEnter the column name to convert to categorical:\")\n",
    "if column_name not in df.columns:\n",
    "    print(f\"Column'{column_name}' not found in the CSV file.\")\n",
    "    return\n",
    "category_order_input = input(\"Enter the category order (comma-separated value ):\")\n",
    "category_order = [x.strip() for x in category_order_input.split(\",\")]\n",
    "df[column_name]=pd.Categorical(df[column_name],categories=category_order,ordered=True)\n",
    "df_sorted=df.sort_values(by= column_name)\n",
    "print(\"/nSorted Data:\")\n",
    "print(df_soted)\n",
    "if __name__ == \"__main__\":\n",
    "    main()"
   ]
  },
  {
   "cell_type": "code",
   "execution_count": null,
   "id": "a94e51da-cb21-4e12-b2c8-fed99f47a8c2",
   "metadata": {},
   "outputs": [],
   "source": [
    "Q10. Write a Python program that reads a CSV file containing sales data for different products and\n",
    "visualizes the data using a stacked bar chart to show the sales of each product category over time. The\n",
    "program should prompt the user to enter the file path and display the chart."
   ]
  },
  {
   "cell_type": "code",
   "execution_count": 3,
   "id": "e8382468-6a1f-4c2e-b563-60f1aa55c1ec",
   "metadata": {},
   "outputs": [
    {
     "name": "stdout",
     "output_type": "stream",
     "text": [
      "Requirement already satisfied: pandas in /opt/conda/lib/python3.10/site-packages (1.5.2)\n",
      "Requirement already satisfied: matplotlib in /opt/conda/lib/python3.10/site-packages (3.6.2)\n",
      "Requirement already satisfied: python-dateutil>=2.8.1 in /opt/conda/lib/python3.10/site-packages (from pandas) (2.8.2)\n",
      "Requirement already satisfied: pytz>=2020.1 in /opt/conda/lib/python3.10/site-packages (from pandas) (2022.6)\n",
      "Requirement already satisfied: numpy>=1.21.0 in /opt/conda/lib/python3.10/site-packages (from pandas) (1.23.5)\n",
      "Requirement already satisfied: kiwisolver>=1.0.1 in /opt/conda/lib/python3.10/site-packages (from matplotlib) (1.4.4)\n",
      "Requirement already satisfied: contourpy>=1.0.1 in /opt/conda/lib/python3.10/site-packages (from matplotlib) (1.0.6)\n",
      "Requirement already satisfied: cycler>=0.10 in /opt/conda/lib/python3.10/site-packages (from matplotlib) (0.11.0)\n",
      "Requirement already satisfied: pyparsing>=2.2.1 in /opt/conda/lib/python3.10/site-packages (from matplotlib) (3.0.9)\n",
      "Requirement already satisfied: fonttools>=4.22.0 in /opt/conda/lib/python3.10/site-packages (from matplotlib) (4.38.0)\n",
      "Requirement already satisfied: packaging>=20.0 in /opt/conda/lib/python3.10/site-packages (from matplotlib) (22.0)\n",
      "Requirement already satisfied: pillow>=6.2.0 in /opt/conda/lib/python3.10/site-packages (from matplotlib) (9.2.0)\n",
      "Requirement already satisfied: six>=1.5 in /opt/conda/lib/python3.10/site-packages (from python-dateutil>=2.8.1->pandas) (1.16.0)\n",
      "Note: you may need to restart the kernel to use updated packages.\n"
     ]
    }
   ],
   "source": [
    "pip install pandas matplotlib"
   ]
  },
  {
   "cell_type": "code",
   "execution_count": 1,
   "id": "d6bf8e84-893a-4bc0-a2f1-7ac2abd4d1c9",
   "metadata": {},
   "outputs": [],
   "source": [
    "import pandas as pd"
   ]
  },
  {
   "cell_type": "code",
   "execution_count": 2,
   "id": "33f2d74d-c07e-4835-bc1b-3f4b67c1b138",
   "metadata": {},
   "outputs": [],
   "source": [
    "import matplotlib.pyplot as pt"
   ]
  },
  {
   "cell_type": "code",
   "execution_count": 3,
   "id": "63667d9f-6074-4632-beb5-6945b260e4cb",
   "metadata": {},
   "outputs": [],
   "source": [
    "import matplotlib.dates as mdates"
   ]
  },
  {
   "cell_type": "code",
   "execution_count": null,
   "id": "586b6f20-2ac5-47c7-9bb7-5d1b840ef0c6",
   "metadata": {},
   "outputs": [],
   "source": [
    "def read_and_visualize_csv(file_path):\n",
    "    df=pd.read_csv(file_path)\n",
    "    df['Date']=pd.to_datetime(df['Date'])\n",
    "    pivot_df = df.pivot_table(index='Date',columns='Product_Category',values='sales',aggfunc='sum')\n",
    "    pivot_df.plot(kind='bar',stacked=True,figsize=(10,7))\n",
    "    plt.gca().xaxis.set_major_formatter(mdates.DateFormatter('%Y-%m-%d'))\n",
    "    plt.gca().xais.set_major_locator(mdates.MonthLocator())\n",
    "    plt.gcf().autofmt_xdate()\n",
    "    plt.xlabel('Date')\n",
    "    plt.ylabel('Sales')\n",
    "    plt.title('Sales of Product Categories Over Time')\n",
    "    plt.legend(title='Product Categories')\n",
    "    plt.show()\n",
    "    \n",
    "def main():\n",
    "    file_path=input(\"please enter the file path for the sales data CSV file:\")\n",
    "    read_and_visualize_csv(file_path)\n",
    "if __name__== \"__main__\":\n",
    "    main()\n"
   ]
  },
  {
   "cell_type": "code",
   "execution_count": null,
   "id": "b47572aa-3220-4770-a389-0217f8ce0447",
   "metadata": {},
   "outputs": [],
   "source": []
  },
  {
   "cell_type": "code",
   "execution_count": null,
   "id": "6461490b-b87c-4a80-ae97-fc71cedb8453",
   "metadata": {},
   "outputs": [],
   "source": [
    "Q11. You are given a CSV file containing student data that includes the student ID and their test score. Write\n",
    "a Python program that reads the CSV file, calculates the mean, median, and mode of the test scores, and\n",
    "displays the results in a table."
   ]
  },
  {
   "cell_type": "code",
   "execution_count": null,
   "id": "16d66601-8e32-4936-a921-a5c0ffd48fc4",
   "metadata": {},
   "outputs": [],
   "source": []
  },
  {
   "cell_type": "code",
   "execution_count": null,
   "id": "22d86f46-3337-4faf-bc91-d4d5b766ed62",
   "metadata": {},
   "outputs": [],
   "source": []
  },
  {
   "cell_type": "code",
   "execution_count": null,
   "id": "591b421c-e8db-4251-915f-b63d6d8eca1c",
   "metadata": {},
   "outputs": [],
   "source": []
  },
  {
   "cell_type": "code",
   "execution_count": null,
   "id": "93cdd06e-d303-405b-8ff0-405b7722a1bd",
   "metadata": {},
   "outputs": [],
   "source": []
  },
  {
   "cell_type": "code",
   "execution_count": null,
   "id": "4ca8e852-01ec-448e-9f71-bf514664210b",
   "metadata": {},
   "outputs": [],
   "source": []
  }
 ],
 "metadata": {
  "kernelspec": {
   "display_name": "Python 3 (ipykernel)",
   "language": "python",
   "name": "python3"
  },
  "language_info": {
   "codemirror_mode": {
    "name": "ipython",
    "version": 3
   },
   "file_extension": ".py",
   "mimetype": "text/x-python",
   "name": "python",
   "nbconvert_exporter": "python",
   "pygments_lexer": "ipython3",
   "version": "3.10.8"
  }
 },
 "nbformat": 4,
 "nbformat_minor": 5
}
